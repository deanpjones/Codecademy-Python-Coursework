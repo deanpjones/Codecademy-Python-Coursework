{
 "cells": [
  {
   "cell_type": "markdown",
   "metadata": {},
   "source": [
    "# Introduction\n",
    "\n",
    "Opening your comic book store, the Sorcery Society, has been a lifelong dream come true. You quickly diversified your shop offerings to include miniatures, plush toys, collectible card games, and board games. Eventually, the store became more a games store with a selection of this week's newest comic books and a small offering of graphic novel paperbacks. Completing your transformation means offering space for local tabletop gamers. They love to play their favorite RPG, \"Abruptly Goblins!\" and will happily pay you per chair to secure the space to do it. Unfortunately, planning the game night has fallen to you. If you pick the wrong night, not enough people will come and the game night will be cancelled. You decide it's best that you automate the game night selector to get the most people through the door. First you need to create a list of people who will be attending the game night.\n",
    "\n",
    "**Instructions**\n",
    "\n",
    "Create an empty list called `gamers`. This will be your list of people who are attending game night."
   ]
  },
  {
   "cell_type": "code",
   "execution_count": null,
   "metadata": {
    "collapsed": true
   },
   "outputs": [],
   "source": []
  },
  {
   "cell_type": "markdown",
   "metadata": {},
   "source": [
    "Now we want to create a function that will update this list and add a new gamer to the this `gamers` list. Each `gamer` should be a dictionary with the following keys:\n",
    " - `\"name\"`: a string that contains the gamer's full or presumed name. E.g., \"Vicky Very\"\n",
    " - `\"availability\"`: a list of strings containing the names of the days of the week that the gamer is available. E.g., [\"Monday\", \"Thursday\", \"Sunday\"]\n",
    " \n",
    "**Instructions**\n",
    "\n",
    "Create a function called `add_gamer` that takes two parameters: `gamer` and `gamers_list`. The function should check that the argument passed to the `gamer` parameter has both `\"name\"` and a `\"availability\"` as keys and if so add `gamer` to `gamers_list`."
   ]
  },
  {
   "cell_type": "code",
   "execution_count": null,
   "metadata": {
    "collapsed": true
   },
   "outputs": [],
   "source": []
  },
  {
   "cell_type": "markdown",
   "metadata": {},
   "source": [
    "Next we want to add our first gamer! Her name is Kimberly Warner and she's available on Mondays, Tuesdays, and Fridays.\n",
    "\n",
    "**Instructions**\n",
    "\n",
    "1. Create a dictionary called `kimberly` with the name and availability given above.\n",
    "2. Call `add_gamer` with `kimberly` as the first argument and `gamers` as the second."
   ]
  },
  {
   "cell_type": "code",
   "execution_count": null,
   "metadata": {
    "collapsed": true
   },
   "outputs": [],
   "source": []
  },
  {
   "cell_type": "markdown",
   "metadata": {},
   "source": [
    "Great! Let's add a couple more gamers to the list!"
   ]
  },
  {
   "cell_type": "code",
   "execution_count": null,
   "metadata": {
    "collapsed": true
   },
   "outputs": [],
   "source": [
    "add_gamer({'name':'Thomas Nelson','availability': [\"Tuesday\", \"Thursday\", \"Saturday\"]}, gamers)\n",
    "add_gamer({'name':'Joyce Sellers','availability': [\"Monday\", \"Wednesday\", \"Friday\", \"Saturday\"]}, gamers)\n",
    "add_gamer({'name':'Michelle Reyes','availability': [\"Wednesday\", \"Thursday\", \"Sunday\"]}, gamers)\n",
    "add_gamer({'name':'Stephen Adams','availability': [\"Thursday\", \"Saturday\"]}, gamers)\n",
    "add_gamer({'name': 'Joanne Lynn', 'availability': [\"Monday\", \"Thursday\"]}, gamers)\n",
    "add_gamer({'name':'Latasha Bryan','availability': [\"Monday\", \"Sunday\"]}, gamers)\n",
    "add_gamer({'name':'Crystal Brewer','availability': [\"Thursday\", \"Friday\", \"Saturday\"]}, gamers)\n",
    "add_gamer({'name':'James Barnes Jr.','availability': [\"Tuesday\", \"Wednesday\", \"Thursday\", \"Sunday\"]}, gamers)\n",
    "add_gamer({'name':'Michel Trujillo','availability': [\"Monday\", \"Tuesday\", \"Wednesday\"]}, gamers)"
   ]
  },
  {
   "cell_type": "markdown",
   "metadata": {},
   "source": [
    "## Finding the perfect availability\n",
    "\n",
    "Now that we have a list of all of the people interested in game night, we want to be able to calculate which nights would have the most participation. First we need to create a frequency table which correlates each day of the week with gamer availability.\n",
    "\n",
    "**Instructions**\n",
    "\n",
    "Create a function called `build_daily_frequency_table` that takes no argument returns a dictionary with the days of the week as keys and `0`s for values. We'll be using this to count the availability per night. Call `build_daily_frequency_table` and save the results to a variable called `count_availability`."
   ]
  },
  {
   "cell_type": "code",
   "execution_count": null,
   "metadata": {
    "collapsed": true
   },
   "outputs": [],
   "source": []
  },
  {
   "cell_type": "markdown",
   "metadata": {},
   "source": [
    "Next we need to count the number of people every night.\n",
    "\n",
    "**Instructions**\n",
    "\n",
    "Write a function called `calculate_availability` that takes a list of gamers as an argument `gamers_list` and a frequency table `available_frequency`. The function should iterate through each gamer in `gamers_list` and iterate through each day in the gamer's availability. For each day in the gamer's availability, add one to that date on the frequency table."
   ]
  },
  {
   "cell_type": "code",
   "execution_count": null,
   "metadata": {
    "collapsed": true
   },
   "outputs": [],
   "source": []
  },
  {
   "cell_type": "markdown",
   "metadata": {},
   "source": [
    "Now let's use these tools to find the best night to run Abruptly Goblins!\n",
    "\n",
    "**Instructions**\n",
    "\n",
    "Call `calculate_availability` with `gamers` and `count_availability`. Print out `count_availability` afterwards."
   ]
  },
  {
   "cell_type": "code",
   "execution_count": null,
   "metadata": {
    "collapsed": true,
    "scrolled": true
   },
   "outputs": [],
   "source": []
  },
  {
   "cell_type": "markdown",
   "metadata": {},
   "source": [
    "Lastly we need a way to pick the day with the most available people to attend so that we can schedule game night on that night.\n",
    "\n",
    "**Instructions**\n",
    "\n",
    "Write a function `find_best_night` that takes a dictionary `availability_table` and returns the key with the highest number."
   ]
  },
  {
   "cell_type": "code",
   "execution_count": null,
   "metadata": {
    "collapsed": true
   },
   "outputs": [],
   "source": []
  },
  {
   "cell_type": "markdown",
   "metadata": {},
   "source": [
    "Now let's find the best day to host game night.\n",
    "\n",
    "**Instructions**\n",
    "\n",
    "Call `find_best_night` with `count_availability`, store the result in a variable called `game_night`.\n",
    "Print out `game_night` to find out which day it is."
   ]
  },
  {
   "cell_type": "code",
   "execution_count": null,
   "metadata": {
    "collapsed": true
   },
   "outputs": [],
   "source": []
  },
  {
   "cell_type": "markdown",
   "metadata": {},
   "source": [
    "And let's make a list of all of the people who are available that night.\n",
    "\n",
    "**Instructions**\n",
    "\n",
    "* Create a function `available_on_night` that takes two parameters: `gamers_list` and `day` and returns a list of people who are available on that particular day.\n",
    "* Call `available_on_night` with `gamers` and `game_night` and save the result into the variable `attending_game_night`.\n",
    "* Print `attending_game_night`."
   ]
  },
  {
   "cell_type": "code",
   "execution_count": null,
   "metadata": {
    "collapsed": true
   },
   "outputs": [],
   "source": []
  },
  {
   "cell_type": "markdown",
   "metadata": {},
   "source": [
    "## Generating an E-mail for the Participants\n",
    "\n",
    "With the best day for Abruptly Goblins! determined with computer precision, we need to let the attendees know that the game night is on a night they can attend. Let's start by creating a form email to send to each of the participants that we'll fill out with data later.\n",
    "\n",
    "**Instructions**\n",
    "\n",
    "Define a string, called `form_email` with interpolation variables `{name}`, `{day_of_week}`, and `{game}` (in case we decide we want to use this featureset to host a different game night). Use it to tell your gaming attendees the night their Abruptly Goblins! game can be played."
   ]
  },
  {
   "cell_type": "code",
   "execution_count": null,
   "metadata": {
    "collapsed": true
   },
   "outputs": [],
   "source": []
  },
  {
   "cell_type": "markdown",
   "metadata": {},
   "source": [
    "**Instructions**\n",
    "\n",
    "Create a function `send_email` with three parameters: `gamers_who_can_attend`, `day`, and `game`. Print `form_email` for each gamer in `gamers_who_can_attend` with the appropriate `day` and `game`.\n",
    "Call `send_email` with `attending_game_night`, `game_night`, and `\"Abruptly Goblins!\"`."
   ]
  },
  {
   "cell_type": "code",
   "execution_count": null,
   "metadata": {
    "collapsed": true
   },
   "outputs": [],
   "source": []
  },
  {
   "cell_type": "markdown",
   "metadata": {},
   "source": [
    "### Afterward\n",
    "\n",
    "You feel bad for the folks who weren't able to attend on the decided upon game night, and try to use your currently written methods to have a second game night of the week.\n",
    "\n",
    "**Instructions**\n",
    "\n",
    "* Create a list `unable_to_attend_best_night` of everyone in `gamers` that wasn't able to attend game night on `game_night`.\n",
    "* Create `second_night_availability` frequency table by calling `build_daily_frequency_table`.\n",
    "* Call `calculate_availability` with `unable_to_attend_best_night` and `second_night_availability`.\n",
    "* Call `find_best_night` with the now filled-in `second_night_availability`, save the results in `second_night`.\n"
   ]
  },
  {
   "cell_type": "code",
   "execution_count": null,
   "metadata": {
    "collapsed": true
   },
   "outputs": [],
   "source": []
  },
  {
   "cell_type": "markdown",
   "metadata": {},
   "source": [
    "Let's send out an email to everyone (whether they can attend the first night or not) whose marked themselves as available on our second game night.\n",
    "\n",
    "**Instructions**\n",
    "\n",
    "* Create the list `available_second_game_night` by calling `available_on_night` with `gamers` and `second_night`\n",
    "* Let the gamers know by calling `send_email` with `available_second_game_night`, `second_night`, and \"Abruptly Goblins!\""
   ]
  },
  {
   "cell_type": "code",
   "execution_count": null,
   "metadata": {
    "collapsed": true
   },
   "outputs": [],
   "source": []
  }
 ],
 "metadata": {
  "kernelspec": {
   "display_name": "Python 3",
   "language": "python",
   "name": "python3"
  },
  "language_info": {
   "codemirror_mode": {
    "name": "ipython",
    "version": 3
   },
   "file_extension": ".py",
   "mimetype": "text/x-python",
   "name": "python",
   "nbconvert_exporter": "python",
   "pygments_lexer": "ipython3",
   "version": "3.6.6"
  }
 },
 "nbformat": 4,
 "nbformat_minor": 2
}
